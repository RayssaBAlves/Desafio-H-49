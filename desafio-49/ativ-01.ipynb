{
 "cells": [
  {
   "cell_type": "code",
   "execution_count": 5,
   "metadata": {},
   "outputs": [
    {
     "name": "stdout",
     "output_type": "stream",
     "text": [
      "a: 394\n",
      "e: 397\n",
      "i: 213\n",
      "o: 337\n",
      "u: 111\n",
      "Total de vogais: 1452\n"
     ]
    }
   ],
   "source": [
    "def contar_vogais(arquivo):\n",
    "\n",
    "    vogais = ['a', 'e', 'i', 'o', 'u']\n",
    "\n",
    "    cont_vogais = {v: 0 for v in vogais}\n",
    "\n",
    "    with open(arquivo, 'r') as file:\n",
    "\n",
    "        texto = file.read()\n",
    "        texto = texto.lower()\n",
    "        for letra in texto:\n",
    "            if letra in cont_vogais:\n",
    "                cont_vogais[letra] += 1\n",
    "\n",
    "    total_vogais = sum(cont_vogais.values())\n",
    "    for vogal, contagem in cont_vogais.items():\n",
    "        print(f'{vogal}: {contagem}')\n",
    "\n",
    "    print(f'Total de vogais: {total_vogais}')\n",
    "\n",
    "\n",
    "contar_vogais('texto-1.txt')\n"
   ]
  }
 ],
 "metadata": {
  "kernelspec": {
   "display_name": "Python 3",
   "language": "python",
   "name": "python3"
  },
  "language_info": {
   "codemirror_mode": {
    "name": "ipython",
    "version": 3
   },
   "file_extension": ".py",
   "mimetype": "text/x-python",
   "name": "python",
   "nbconvert_exporter": "python",
   "pygments_lexer": "ipython3",
   "version": "3.11.5"
  }
 },
 "nbformat": 4,
 "nbformat_minor": 2
}
